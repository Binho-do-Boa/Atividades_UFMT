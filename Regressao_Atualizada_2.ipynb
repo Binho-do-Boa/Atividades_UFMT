{
  "nbformat": 4,
  "nbformat_minor": 0,
  "metadata": {
    "colab": {
      "provenance": [],
      "include_colab_link": true
    },
    "kernelspec": {
      "name": "python3",
      "display_name": "Python 3"
    },
    "language_info": {
      "name": "python"
    }
  },
  "cells": [
    {
      "cell_type": "markdown",
      "metadata": {
        "id": "view-in-github",
        "colab_type": "text"
      },
      "source": [
        "<a href=\"https://colab.research.google.com/github/Binho-do-Boa/Atividades_UFMT/blob/main/Regressao_Atualizada_2.ipynb\" target=\"_parent\"><img src=\"https://colab.research.google.com/assets/colab-badge.svg\" alt=\"Open In Colab\"/></a>"
      ]
    },
    {
      "cell_type": "code",
      "execution_count": 60,
      "metadata": {
        "id": "76XFGxRTV1rw"
      },
      "outputs": [],
      "source": [
        "import numpy as np\n",
        "import pandas as pd\n",
        "import matplotlib.pyplot as plt\n",
        "%matplotlib inline"
      ]
    },
    {
      "cell_type": "code",
      "source": [
        "df = pd.read_csv('matogrosso.csv')\n",
        "df.head()"
      ],
      "metadata": {
        "colab": {
          "base_uri": "https://localhost:8080/",
          "height": 206
        },
        "id": "bfKtIN52WCLo",
        "outputId": "7f9cd526-4ac6-4e20-82c1-1196660a68ba"
      },
      "execution_count": 61,
      "outputs": [
        {
          "output_type": "execute_result",
          "data": {
            "text/plain": [
              "   NOME_MUNICIPIO   CODIGO          GENTILICO                 PREFEITO2017  \\\n",
              "0        Acorizal  5100102          acorizano  CLODOALDO MONTEIRO DA SILVA   \n",
              "1        Água Boa  5100201        água-boense          MAURO ROSA DA SILVA   \n",
              "2   Alta Floresta  5100250   alta-florestense      ASIEL BEZERRA DE ARAUJO   \n",
              "3   Alto Araguaia  5100300         araguaiano     GUSTAVO DE MELO ANICEZIO   \n",
              "4  Alto Boa Vista  5100359  alto boa vistense     VALTUIR CANDIDO DA SILVA   \n",
              "\n",
              "       AREA  POPESTIMADA  DENSIDADE  ESCOLARIZACAO   IDHM MORTALIDADE  \\\n",
              "0  1014.029         5424       6.56           96.6  0.628       16.13   \n",
              "1  7510.635        25229       2.79           99.2  0.729       10.23   \n",
              "2  8953.191        51615       5.48           98.0  0.714       19.19   \n",
              "3  5399.326        18703       2.84           96.7  0.704        9.09   \n",
              "4  2240.438         6659       2.34           96.8  0.651       37.04   \n",
              "\n",
              "       RECEITAS      DESPESAS       PIB  \n",
              "0           NaN           NaN  13362.95  \n",
              "1   92166.40674   81874.15633  37449.63  \n",
              "2  146439.79095  118288.01810  31623.80  \n",
              "3   63035.52537   55216.26966  50298.54  \n",
              "4   23227.72780   20002.89582  16877.29  "
            ],
            "text/html": [
              "\n",
              "  <div id=\"df-72f42357-1a82-49a4-a46a-533ea3257ab1\" class=\"colab-df-container\">\n",
              "    <div>\n",
              "<style scoped>\n",
              "    .dataframe tbody tr th:only-of-type {\n",
              "        vertical-align: middle;\n",
              "    }\n",
              "\n",
              "    .dataframe tbody tr th {\n",
              "        vertical-align: top;\n",
              "    }\n",
              "\n",
              "    .dataframe thead th {\n",
              "        text-align: right;\n",
              "    }\n",
              "</style>\n",
              "<table border=\"1\" class=\"dataframe\">\n",
              "  <thead>\n",
              "    <tr style=\"text-align: right;\">\n",
              "      <th></th>\n",
              "      <th>NOME_MUNICIPIO</th>\n",
              "      <th>CODIGO</th>\n",
              "      <th>GENTILICO</th>\n",
              "      <th>PREFEITO2017</th>\n",
              "      <th>AREA</th>\n",
              "      <th>POPESTIMADA</th>\n",
              "      <th>DENSIDADE</th>\n",
              "      <th>ESCOLARIZACAO</th>\n",
              "      <th>IDHM</th>\n",
              "      <th>MORTALIDADE</th>\n",
              "      <th>RECEITAS</th>\n",
              "      <th>DESPESAS</th>\n",
              "      <th>PIB</th>\n",
              "    </tr>\n",
              "  </thead>\n",
              "  <tbody>\n",
              "    <tr>\n",
              "      <th>0</th>\n",
              "      <td>Acorizal</td>\n",
              "      <td>5100102</td>\n",
              "      <td>acorizano</td>\n",
              "      <td>CLODOALDO MONTEIRO DA SILVA</td>\n",
              "      <td>1014.029</td>\n",
              "      <td>5424</td>\n",
              "      <td>6.56</td>\n",
              "      <td>96.6</td>\n",
              "      <td>0.628</td>\n",
              "      <td>16.13</td>\n",
              "      <td>NaN</td>\n",
              "      <td>NaN</td>\n",
              "      <td>13362.95</td>\n",
              "    </tr>\n",
              "    <tr>\n",
              "      <th>1</th>\n",
              "      <td>Água Boa</td>\n",
              "      <td>5100201</td>\n",
              "      <td>água-boense</td>\n",
              "      <td>MAURO ROSA DA SILVA</td>\n",
              "      <td>7510.635</td>\n",
              "      <td>25229</td>\n",
              "      <td>2.79</td>\n",
              "      <td>99.2</td>\n",
              "      <td>0.729</td>\n",
              "      <td>10.23</td>\n",
              "      <td>92166.40674</td>\n",
              "      <td>81874.15633</td>\n",
              "      <td>37449.63</td>\n",
              "    </tr>\n",
              "    <tr>\n",
              "      <th>2</th>\n",
              "      <td>Alta Floresta</td>\n",
              "      <td>5100250</td>\n",
              "      <td>alta-florestense</td>\n",
              "      <td>ASIEL BEZERRA DE ARAUJO</td>\n",
              "      <td>8953.191</td>\n",
              "      <td>51615</td>\n",
              "      <td>5.48</td>\n",
              "      <td>98.0</td>\n",
              "      <td>0.714</td>\n",
              "      <td>19.19</td>\n",
              "      <td>146439.79095</td>\n",
              "      <td>118288.01810</td>\n",
              "      <td>31623.80</td>\n",
              "    </tr>\n",
              "    <tr>\n",
              "      <th>3</th>\n",
              "      <td>Alto Araguaia</td>\n",
              "      <td>5100300</td>\n",
              "      <td>araguaiano</td>\n",
              "      <td>GUSTAVO DE MELO ANICEZIO</td>\n",
              "      <td>5399.326</td>\n",
              "      <td>18703</td>\n",
              "      <td>2.84</td>\n",
              "      <td>96.7</td>\n",
              "      <td>0.704</td>\n",
              "      <td>9.09</td>\n",
              "      <td>63035.52537</td>\n",
              "      <td>55216.26966</td>\n",
              "      <td>50298.54</td>\n",
              "    </tr>\n",
              "    <tr>\n",
              "      <th>4</th>\n",
              "      <td>Alto Boa Vista</td>\n",
              "      <td>5100359</td>\n",
              "      <td>alto boa vistense</td>\n",
              "      <td>VALTUIR CANDIDO DA SILVA</td>\n",
              "      <td>2240.438</td>\n",
              "      <td>6659</td>\n",
              "      <td>2.34</td>\n",
              "      <td>96.8</td>\n",
              "      <td>0.651</td>\n",
              "      <td>37.04</td>\n",
              "      <td>23227.72780</td>\n",
              "      <td>20002.89582</td>\n",
              "      <td>16877.29</td>\n",
              "    </tr>\n",
              "  </tbody>\n",
              "</table>\n",
              "</div>\n",
              "    <div class=\"colab-df-buttons\">\n",
              "\n",
              "  <div class=\"colab-df-container\">\n",
              "    <button class=\"colab-df-convert\" onclick=\"convertToInteractive('df-72f42357-1a82-49a4-a46a-533ea3257ab1')\"\n",
              "            title=\"Convert this dataframe to an interactive table.\"\n",
              "            style=\"display:none;\">\n",
              "\n",
              "  <svg xmlns=\"http://www.w3.org/2000/svg\" height=\"24px\" viewBox=\"0 -960 960 960\">\n",
              "    <path d=\"M120-120v-720h720v720H120Zm60-500h600v-160H180v160Zm220 220h160v-160H400v160Zm0 220h160v-160H400v160ZM180-400h160v-160H180v160Zm440 0h160v-160H620v160ZM180-180h160v-160H180v160Zm440 0h160v-160H620v160Z\"/>\n",
              "  </svg>\n",
              "    </button>\n",
              "\n",
              "  <style>\n",
              "    .colab-df-container {\n",
              "      display:flex;\n",
              "      gap: 12px;\n",
              "    }\n",
              "\n",
              "    .colab-df-convert {\n",
              "      background-color: #E8F0FE;\n",
              "      border: none;\n",
              "      border-radius: 50%;\n",
              "      cursor: pointer;\n",
              "      display: none;\n",
              "      fill: #1967D2;\n",
              "      height: 32px;\n",
              "      padding: 0 0 0 0;\n",
              "      width: 32px;\n",
              "    }\n",
              "\n",
              "    .colab-df-convert:hover {\n",
              "      background-color: #E2EBFA;\n",
              "      box-shadow: 0px 1px 2px rgba(60, 64, 67, 0.3), 0px 1px 3px 1px rgba(60, 64, 67, 0.15);\n",
              "      fill: #174EA6;\n",
              "    }\n",
              "\n",
              "    .colab-df-buttons div {\n",
              "      margin-bottom: 4px;\n",
              "    }\n",
              "\n",
              "    [theme=dark] .colab-df-convert {\n",
              "      background-color: #3B4455;\n",
              "      fill: #D2E3FC;\n",
              "    }\n",
              "\n",
              "    [theme=dark] .colab-df-convert:hover {\n",
              "      background-color: #434B5C;\n",
              "      box-shadow: 0px 1px 3px 1px rgba(0, 0, 0, 0.15);\n",
              "      filter: drop-shadow(0px 1px 2px rgba(0, 0, 0, 0.3));\n",
              "      fill: #FFFFFF;\n",
              "    }\n",
              "  </style>\n",
              "\n",
              "    <script>\n",
              "      const buttonEl =\n",
              "        document.querySelector('#df-72f42357-1a82-49a4-a46a-533ea3257ab1 button.colab-df-convert');\n",
              "      buttonEl.style.display =\n",
              "        google.colab.kernel.accessAllowed ? 'block' : 'none';\n",
              "\n",
              "      async function convertToInteractive(key) {\n",
              "        const element = document.querySelector('#df-72f42357-1a82-49a4-a46a-533ea3257ab1');\n",
              "        const dataTable =\n",
              "          await google.colab.kernel.invokeFunction('convertToInteractive',\n",
              "                                                    [key], {});\n",
              "        if (!dataTable) return;\n",
              "\n",
              "        const docLinkHtml = 'Like what you see? Visit the ' +\n",
              "          '<a target=\"_blank\" href=https://colab.research.google.com/notebooks/data_table.ipynb>data table notebook</a>'\n",
              "          + ' to learn more about interactive tables.';\n",
              "        element.innerHTML = '';\n",
              "        dataTable['output_type'] = 'display_data';\n",
              "        await google.colab.output.renderOutput(dataTable, element);\n",
              "        const docLink = document.createElement('div');\n",
              "        docLink.innerHTML = docLinkHtml;\n",
              "        element.appendChild(docLink);\n",
              "      }\n",
              "    </script>\n",
              "  </div>\n",
              "\n",
              "\n",
              "<div id=\"df-d1c69203-6be6-49fd-acfd-16ee85e593c5\">\n",
              "  <button class=\"colab-df-quickchart\" onclick=\"quickchart('df-d1c69203-6be6-49fd-acfd-16ee85e593c5')\"\n",
              "            title=\"Suggest charts\"\n",
              "            style=\"display:none;\">\n",
              "\n",
              "<svg xmlns=\"http://www.w3.org/2000/svg\" height=\"24px\"viewBox=\"0 0 24 24\"\n",
              "     width=\"24px\">\n",
              "    <g>\n",
              "        <path d=\"M19 3H5c-1.1 0-2 .9-2 2v14c0 1.1.9 2 2 2h14c1.1 0 2-.9 2-2V5c0-1.1-.9-2-2-2zM9 17H7v-7h2v7zm4 0h-2V7h2v10zm4 0h-2v-4h2v4z\"/>\n",
              "    </g>\n",
              "</svg>\n",
              "  </button>\n",
              "\n",
              "<style>\n",
              "  .colab-df-quickchart {\n",
              "      --bg-color: #E8F0FE;\n",
              "      --fill-color: #1967D2;\n",
              "      --hover-bg-color: #E2EBFA;\n",
              "      --hover-fill-color: #174EA6;\n",
              "      --disabled-fill-color: #AAA;\n",
              "      --disabled-bg-color: #DDD;\n",
              "  }\n",
              "\n",
              "  [theme=dark] .colab-df-quickchart {\n",
              "      --bg-color: #3B4455;\n",
              "      --fill-color: #D2E3FC;\n",
              "      --hover-bg-color: #434B5C;\n",
              "      --hover-fill-color: #FFFFFF;\n",
              "      --disabled-bg-color: #3B4455;\n",
              "      --disabled-fill-color: #666;\n",
              "  }\n",
              "\n",
              "  .colab-df-quickchart {\n",
              "    background-color: var(--bg-color);\n",
              "    border: none;\n",
              "    border-radius: 50%;\n",
              "    cursor: pointer;\n",
              "    display: none;\n",
              "    fill: var(--fill-color);\n",
              "    height: 32px;\n",
              "    padding: 0;\n",
              "    width: 32px;\n",
              "  }\n",
              "\n",
              "  .colab-df-quickchart:hover {\n",
              "    background-color: var(--hover-bg-color);\n",
              "    box-shadow: 0 1px 2px rgba(60, 64, 67, 0.3), 0 1px 3px 1px rgba(60, 64, 67, 0.15);\n",
              "    fill: var(--button-hover-fill-color);\n",
              "  }\n",
              "\n",
              "  .colab-df-quickchart-complete:disabled,\n",
              "  .colab-df-quickchart-complete:disabled:hover {\n",
              "    background-color: var(--disabled-bg-color);\n",
              "    fill: var(--disabled-fill-color);\n",
              "    box-shadow: none;\n",
              "  }\n",
              "\n",
              "  .colab-df-spinner {\n",
              "    border: 2px solid var(--fill-color);\n",
              "    border-color: transparent;\n",
              "    border-bottom-color: var(--fill-color);\n",
              "    animation:\n",
              "      spin 1s steps(1) infinite;\n",
              "  }\n",
              "\n",
              "  @keyframes spin {\n",
              "    0% {\n",
              "      border-color: transparent;\n",
              "      border-bottom-color: var(--fill-color);\n",
              "      border-left-color: var(--fill-color);\n",
              "    }\n",
              "    20% {\n",
              "      border-color: transparent;\n",
              "      border-left-color: var(--fill-color);\n",
              "      border-top-color: var(--fill-color);\n",
              "    }\n",
              "    30% {\n",
              "      border-color: transparent;\n",
              "      border-left-color: var(--fill-color);\n",
              "      border-top-color: var(--fill-color);\n",
              "      border-right-color: var(--fill-color);\n",
              "    }\n",
              "    40% {\n",
              "      border-color: transparent;\n",
              "      border-right-color: var(--fill-color);\n",
              "      border-top-color: var(--fill-color);\n",
              "    }\n",
              "    60% {\n",
              "      border-color: transparent;\n",
              "      border-right-color: var(--fill-color);\n",
              "    }\n",
              "    80% {\n",
              "      border-color: transparent;\n",
              "      border-right-color: var(--fill-color);\n",
              "      border-bottom-color: var(--fill-color);\n",
              "    }\n",
              "    90% {\n",
              "      border-color: transparent;\n",
              "      border-bottom-color: var(--fill-color);\n",
              "    }\n",
              "  }\n",
              "</style>\n",
              "\n",
              "  <script>\n",
              "    async function quickchart(key) {\n",
              "      const quickchartButtonEl =\n",
              "        document.querySelector('#' + key + ' button');\n",
              "      quickchartButtonEl.disabled = true;  // To prevent multiple clicks.\n",
              "      quickchartButtonEl.classList.add('colab-df-spinner');\n",
              "      try {\n",
              "        const charts = await google.colab.kernel.invokeFunction(\n",
              "            'suggestCharts', [key], {});\n",
              "      } catch (error) {\n",
              "        console.error('Error during call to suggestCharts:', error);\n",
              "      }\n",
              "      quickchartButtonEl.classList.remove('colab-df-spinner');\n",
              "      quickchartButtonEl.classList.add('colab-df-quickchart-complete');\n",
              "    }\n",
              "    (() => {\n",
              "      let quickchartButtonEl =\n",
              "        document.querySelector('#df-d1c69203-6be6-49fd-acfd-16ee85e593c5 button');\n",
              "      quickchartButtonEl.style.display =\n",
              "        google.colab.kernel.accessAllowed ? 'block' : 'none';\n",
              "    })();\n",
              "  </script>\n",
              "</div>\n",
              "\n",
              "    </div>\n",
              "  </div>\n"
            ],
            "application/vnd.google.colaboratory.intrinsic+json": {
              "type": "dataframe",
              "variable_name": "df",
              "summary": "{\n  \"name\": \"df\",\n  \"rows\": 141,\n  \"fields\": [\n    {\n      \"column\": \"NOME_MUNICIPIO\",\n      \"properties\": {\n        \"dtype\": \"string\",\n        \"num_unique_values\": 141,\n        \"samples\": [\n          \"Nobres\",\n          \"S\\u00e3o Jos\\u00e9 do Povo\",\n          \"Col\\u00edder\"\n        ],\n        \"semantic_type\": \"\",\n        \"description\": \"\"\n      }\n    },\n    {\n      \"column\": \"CODIGO\",\n      \"properties\": {\n        \"dtype\": \"number\",\n        \"std\": 2412,\n        \"min\": 5100102,\n        \"max\": 5108956,\n        \"num_unique_values\": 141,\n        \"samples\": [\n          5105903,\n          5107297,\n          5103205\n        ],\n        \"semantic_type\": \"\",\n        \"description\": \"\"\n      }\n    },\n    {\n      \"column\": \"GENTILICO\",\n      \"properties\": {\n        \"dtype\": \"string\",\n        \"num_unique_values\": 141,\n        \"samples\": [\n          \"nobrense\",\n          \"s\\u00e3ojoseenses-do-povo\",\n          \"colidense\"\n        ],\n        \"semantic_type\": \"\",\n        \"description\": \"\"\n      }\n    },\n    {\n      \"column\": \"PREFEITO2017\",\n      \"properties\": {\n        \"dtype\": \"string\",\n        \"num_unique_values\": 141,\n        \"samples\": [\n          \"LEOCIR HANEL\",\n          \"ARIVALDO MEDEIROS DE SANTANA\",\n          \"NOBORU TOMIYOSHI\"\n        ],\n        \"semantic_type\": \"\",\n        \"description\": \"\"\n      }\n    },\n    {\n      \"column\": \"AREA\",\n      \"properties\": {\n        \"dtype\": \"number\",\n        \"std\": 5992.9178621110295,\n        \"min\": 344.05,\n        \"max\": 27946.126,\n        \"num_unique_values\": 141,\n        \"samples\": [\n          3911.85,\n          448.285,\n          3103.958\n        ],\n        \"semantic_type\": \"\",\n        \"description\": \"\"\n      }\n    },\n    {\n      \"column\": \"POPESTIMADA\",\n      \"properties\": {\n        \"dtype\": \"number\",\n        \"std\": 60490,\n        \"min\": 956,\n        \"max\": 607153,\n        \"num_unique_values\": 141,\n        \"samples\": [\n          15338,\n          4021,\n          33224\n        ],\n        \"semantic_type\": \"\",\n        \"description\": \"\"\n      }\n    },\n    {\n      \"column\": \"DENSIDADE\",\n      \"properties\": {\n        \"dtype\": \"number\",\n        \"std\": 24.399357711163734,\n        \"min\": 0.28,\n        \"max\": 240.98,\n        \"num_unique_values\": 131,\n        \"samples\": [\n          8.03,\n          2.47,\n          3.61\n        ],\n        \"semantic_type\": \"\",\n        \"description\": \"\"\n      }\n    },\n    {\n      \"column\": \"ESCOLARIZACAO\",\n      \"properties\": {\n        \"dtype\": \"number\",\n        \"std\": 3.8812314343270633,\n        \"min\": 66.3,\n        \"max\": 99.7,\n        \"num_unique_values\": 60,\n        \"samples\": [\n          96.6,\n          95.4,\n          93.9\n        ],\n        \"semantic_type\": \"\",\n        \"description\": \"\"\n      }\n    },\n    {\n      \"column\": \"IDHM\",\n      \"properties\": {\n        \"dtype\": \"number\",\n        \"std\": 0.038266273663649514,\n        \"min\": 0.538,\n        \"max\": 0.785,\n        \"num_unique_values\": 87,\n        \"samples\": [\n          0.684,\n          0.628,\n          0.713\n        ],\n        \"semantic_type\": \"\",\n        \"description\": \"\"\n      }\n    },\n    {\n      \"column\": \"MORTALIDADE\",\n      \"properties\": {\n        \"dtype\": \"string\",\n        \"num_unique_values\": 116,\n        \"samples\": [\n          \"55.56\",\n          \"37.04\",\n          \"21.74\"\n        ],\n        \"semantic_type\": \"\",\n        \"description\": \"\"\n      }\n    },\n    {\n      \"column\": \"RECEITAS\",\n      \"properties\": {\n        \"dtype\": \"number\",\n        \"std\": 202438.0986330946,\n        \"min\": 11893.20692,\n        \"max\": 2153678.7811,\n        \"num_unique_values\": 139,\n        \"samples\": [\n          17948.12931,\n          64031.62733,\n          71915.04448\n        ],\n        \"semantic_type\": \"\",\n        \"description\": \"\"\n      }\n    },\n    {\n      \"column\": \"DESPESAS\",\n      \"properties\": {\n        \"dtype\": \"number\",\n        \"std\": 189573.24509350627,\n        \"min\": 10486.89734,\n        \"max\": 2043591.97273,\n        \"num_unique_values\": 139,\n        \"samples\": [\n          15845.81847,\n          55667.02089,\n          63549.24832\n        ],\n        \"semantic_type\": \"\",\n        \"description\": \"\"\n      }\n    },\n    {\n      \"column\": \"PIB\",\n      \"properties\": {\n        \"dtype\": \"number\",\n        \"std\": 28279.3470296444,\n        \"min\": 10060.57,\n        \"max\": 202309.42,\n        \"num_unique_values\": 141,\n        \"samples\": [\n          35667.87,\n          11273.34,\n          27128.23\n        ],\n        \"semantic_type\": \"\",\n        \"description\": \"\"\n      }\n    }\n  ]\n}"
            }
          },
          "metadata": {},
          "execution_count": 61
        }
      ]
    },
    {
      "cell_type": "code",
      "source": [
        "x = df[['ESCOLARIZACAO']]\n",
        "y = df['IDHM']"
      ],
      "metadata": {
        "id": "Q5Oh0whzWRsm"
      },
      "execution_count": 62,
      "outputs": []
    },
    {
      "cell_type": "code",
      "source": [
        "from sklearn.model_selection import train_test_split"
      ],
      "metadata": {
        "id": "FmNDidc5WKVl"
      },
      "execution_count": 63,
      "outputs": []
    },
    {
      "cell_type": "code",
      "source": [
        "X_train, X_test, y_train, y_test = train_test_split(x, y, test_size=0.3, random_state=18)"
      ],
      "metadata": {
        "id": "TQHtr07hXezO"
      },
      "execution_count": 64,
      "outputs": []
    },
    {
      "cell_type": "code",
      "source": [
        "from sklearn.linear_model import LinearRegression\n",
        "regressao = LinearRegression()"
      ],
      "metadata": {
        "id": "y51mUg2BWM29"
      },
      "execution_count": 65,
      "outputs": []
    },
    {
      "cell_type": "code",
      "source": [
        "regressao.fit(X_train,y_train)"
      ],
      "metadata": {
        "colab": {
          "base_uri": "https://localhost:8080/",
          "height": 75
        },
        "id": "H2YWXANoXQrm",
        "outputId": "d9ff0b85-d4c4-4917-da2e-f03f0458510a"
      },
      "execution_count": 66,
      "outputs": [
        {
          "output_type": "execute_result",
          "data": {
            "text/plain": [
              "LinearRegression()"
            ],
            "text/html": [
              "<style>#sk-container-id-5 {color: black;background-color: white;}#sk-container-id-5 pre{padding: 0;}#sk-container-id-5 div.sk-toggleable {background-color: white;}#sk-container-id-5 label.sk-toggleable__label {cursor: pointer;display: block;width: 100%;margin-bottom: 0;padding: 0.3em;box-sizing: border-box;text-align: center;}#sk-container-id-5 label.sk-toggleable__label-arrow:before {content: \"▸\";float: left;margin-right: 0.25em;color: #696969;}#sk-container-id-5 label.sk-toggleable__label-arrow:hover:before {color: black;}#sk-container-id-5 div.sk-estimator:hover label.sk-toggleable__label-arrow:before {color: black;}#sk-container-id-5 div.sk-toggleable__content {max-height: 0;max-width: 0;overflow: hidden;text-align: left;background-color: #f0f8ff;}#sk-container-id-5 div.sk-toggleable__content pre {margin: 0.2em;color: black;border-radius: 0.25em;background-color: #f0f8ff;}#sk-container-id-5 input.sk-toggleable__control:checked~div.sk-toggleable__content {max-height: 200px;max-width: 100%;overflow: auto;}#sk-container-id-5 input.sk-toggleable__control:checked~label.sk-toggleable__label-arrow:before {content: \"▾\";}#sk-container-id-5 div.sk-estimator input.sk-toggleable__control:checked~label.sk-toggleable__label {background-color: #d4ebff;}#sk-container-id-5 div.sk-label input.sk-toggleable__control:checked~label.sk-toggleable__label {background-color: #d4ebff;}#sk-container-id-5 input.sk-hidden--visually {border: 0;clip: rect(1px 1px 1px 1px);clip: rect(1px, 1px, 1px, 1px);height: 1px;margin: -1px;overflow: hidden;padding: 0;position: absolute;width: 1px;}#sk-container-id-5 div.sk-estimator {font-family: monospace;background-color: #f0f8ff;border: 1px dotted black;border-radius: 0.25em;box-sizing: border-box;margin-bottom: 0.5em;}#sk-container-id-5 div.sk-estimator:hover {background-color: #d4ebff;}#sk-container-id-5 div.sk-parallel-item::after {content: \"\";width: 100%;border-bottom: 1px solid gray;flex-grow: 1;}#sk-container-id-5 div.sk-label:hover label.sk-toggleable__label {background-color: #d4ebff;}#sk-container-id-5 div.sk-serial::before {content: \"\";position: absolute;border-left: 1px solid gray;box-sizing: border-box;top: 0;bottom: 0;left: 50%;z-index: 0;}#sk-container-id-5 div.sk-serial {display: flex;flex-direction: column;align-items: center;background-color: white;padding-right: 0.2em;padding-left: 0.2em;position: relative;}#sk-container-id-5 div.sk-item {position: relative;z-index: 1;}#sk-container-id-5 div.sk-parallel {display: flex;align-items: stretch;justify-content: center;background-color: white;position: relative;}#sk-container-id-5 div.sk-item::before, #sk-container-id-5 div.sk-parallel-item::before {content: \"\";position: absolute;border-left: 1px solid gray;box-sizing: border-box;top: 0;bottom: 0;left: 50%;z-index: -1;}#sk-container-id-5 div.sk-parallel-item {display: flex;flex-direction: column;z-index: 1;position: relative;background-color: white;}#sk-container-id-5 div.sk-parallel-item:first-child::after {align-self: flex-end;width: 50%;}#sk-container-id-5 div.sk-parallel-item:last-child::after {align-self: flex-start;width: 50%;}#sk-container-id-5 div.sk-parallel-item:only-child::after {width: 0;}#sk-container-id-5 div.sk-dashed-wrapped {border: 1px dashed gray;margin: 0 0.4em 0.5em 0.4em;box-sizing: border-box;padding-bottom: 0.4em;background-color: white;}#sk-container-id-5 div.sk-label label {font-family: monospace;font-weight: bold;display: inline-block;line-height: 1.2em;}#sk-container-id-5 div.sk-label-container {text-align: center;}#sk-container-id-5 div.sk-container {/* jupyter's `normalize.less` sets `[hidden] { display: none; }` but bootstrap.min.css set `[hidden] { display: none !important; }` so we also need the `!important` here to be able to override the default hidden behavior on the sphinx rendered scikit-learn.org. See: https://github.com/scikit-learn/scikit-learn/issues/21755 */display: inline-block !important;position: relative;}#sk-container-id-5 div.sk-text-repr-fallback {display: none;}</style><div id=\"sk-container-id-5\" class=\"sk-top-container\"><div class=\"sk-text-repr-fallback\"><pre>LinearRegression()</pre><b>In a Jupyter environment, please rerun this cell to show the HTML representation or trust the notebook. <br />On GitHub, the HTML representation is unable to render, please try loading this page with nbviewer.org.</b></div><div class=\"sk-container\" hidden><div class=\"sk-item\"><div class=\"sk-estimator sk-toggleable\"><input class=\"sk-toggleable__control sk-hidden--visually\" id=\"sk-estimator-id-5\" type=\"checkbox\" checked><label for=\"sk-estimator-id-5\" class=\"sk-toggleable__label sk-toggleable__label-arrow\">LinearRegression</label><div class=\"sk-toggleable__content\"><pre>LinearRegression()</pre></div></div></div></div></div>"
            ]
          },
          "metadata": {},
          "execution_count": 66
        }
      ]
    },
    {
      "cell_type": "code",
      "source": [
        "print('Coeficientes: ', regressao.intercept_, regressao.coef_)"
      ],
      "metadata": {
        "colab": {
          "base_uri": "https://localhost:8080/"
        },
        "id": "WZNsRu4KYtqX",
        "outputId": "0c995d8f-f204-40b7-e0f6-0959caadf9d9"
      },
      "execution_count": 67,
      "outputs": [
        {
          "output_type": "stream",
          "name": "stdout",
          "text": [
            "Coeficientes:  0.18393135483062284 [0.00520584]\n"
          ]
        }
      ]
    },
    {
      "cell_type": "code",
      "source": [
        "predicao = regressao.predict(X_train)\n",
        "\n",
        "plt.scatter(predicao,y_train)\n",
        "plt.xlabel('IDHM real')\n",
        "plt.ylabel('IDHM estimado')"
      ],
      "metadata": {
        "colab": {
          "base_uri": "https://localhost:8080/",
          "height": 466
        },
        "id": "U-8MGGVRZB5G",
        "outputId": "6f97fc42-7c37-4164-cc90-826d368f4a99"
      },
      "execution_count": 68,
      "outputs": [
        {
          "output_type": "execute_result",
          "data": {
            "text/plain": [
              "Text(0, 0.5, 'IDHM estimado')"
            ]
          },
          "metadata": {},
          "execution_count": 68
        },
        {
          "output_type": "display_data",
          "data": {
            "text/plain": [
              "<Figure size 640x480 with 1 Axes>"
            ],
            "image/png": "[encoded data removed]"
          },
          "metadata": {}
        }
      ]
    },
    {
      "cell_type": "code",
      "source": [
        "from sklearn import metrics"
      ],
      "metadata": {
        "id": "ePKbw-smbfEJ"
      },
      "execution_count": 69,
      "outputs": []
    },
    {
      "cell_type": "code",
      "source": [
        "print('r2:', metrics.r2_score(y_train, predicao))\n",
        "print('MAE:', metrics.mean_absolute_error(y_train, predicao))\n",
        "print('MSE:', metrics.mean_squared_error(y_train, predicao))\n",
        "print('RMSE:', np.sqrt(metrics.mean_squared_error(y_train, predicao)))"
      ],
      "metadata": {
        "colab": {
          "base_uri": "https://localhost:8080/"
        },
        "id": "tKmbMlSKbgUo",
        "outputId": "b995748b-fe24-4622-c05a-10b0a9c75845"
      },
      "execution_count": 70,
      "outputs": [
        {
          "output_type": "stream",
          "name": "stdout",
          "text": [
            "r2: 0.33627001195642225\n",
            "MAE: 0.026126268819102082\n",
            "MSE: 0.0010379589791239627\n",
            "RMSE: 0.032217370766776776\n"
          ]
        }
      ]
    },
    {
      "cell_type": "code",
      "source": [
        "predicao = regressao.predict(X_test)\n",
        "\n",
        "print('r2:', metrics.r2_score(y_test, predicao))\n",
        "print('MAE:', metrics.mean_absolute_error(y_test, predicao))\n",
        "print('MSE:', metrics.mean_squared_error(y_test, predicao))\n",
        "print('RMSE:', np.sqrt(metrics.mean_squared_error(y_test, predicao)))"
      ],
      "metadata": {
        "colab": {
          "base_uri": "https://localhost:8080/"
        },
        "id": "QJZs9C1pZy6A",
        "outputId": "f6bd93e3-dc64-4cc2-949b-515cb6b21a21"
      },
      "execution_count": 71,
      "outputs": [
        {
          "output_type": "stream",
          "name": "stdout",
          "text": [
            "r2: 0.08118201076890674\n",
            "MAE: 0.02483897858488661\n",
            "MSE: 0.0010979373075060003\n",
            "RMSE: 0.03313513705277225\n"
          ]
        }
      ]
    },
    {
      "cell_type": "markdown",
      "source": [
        "### **Teste com modelo RandomForestRegressor e add novas colunas**"
      ],
      "metadata": {
        "id": "4CIsVMlFuRTj"
      }
    },
    {
      "cell_type": "code",
      "source": [
        "# Preencher valores nulos\n",
        "df['RECEITAS'].fillna(df['RECEITAS'].mean(), inplace=True)\n",
        "df['DESPESAS'].fillna(df['DESPESAS'].mean(), inplace=True)"
      ],
      "metadata": {
        "id": "Ts0cVXytvGWQ"
      },
      "execution_count": 72,
      "outputs": []
    },
    {
      "cell_type": "code",
      "source": [
        "# Selecionar características e alvo\n",
        "X = df[['ESCOLARIZACAO', 'RECEITAS', 'DESPESAS', 'PIB']]\n",
        "y = df['IDHM']"
      ],
      "metadata": {
        "id": "bV8mitYfuP7H"
      },
      "execution_count": 73,
      "outputs": []
    },
    {
      "cell_type": "code",
      "source": [
        "# Dividir os dados em treino e teste\n",
        "X_train, X_test, y_train, y_test = train_test_split(X, y, test_size=0.3, random_state=18)"
      ],
      "metadata": {
        "id": "nGNmUSOLvWX2"
      },
      "execution_count": 74,
      "outputs": []
    },
    {
      "cell_type": "code",
      "source": [
        "from sklearn.ensemble import RandomForestRegressor"
      ],
      "metadata": {
        "id": "gffq-aocqa_G"
      },
      "execution_count": 75,
      "outputs": []
    },
    {
      "cell_type": "code",
      "source": [
        "from sklearn.preprocessing import StandardScaler\n",
        "# Normalizar os dados\n",
        "scaler = StandardScaler()\n",
        "X_train = scaler.fit_transform(X_train)\n",
        "X_test = scaler.transform(X_test)"
      ],
      "metadata": {
        "id": "2uChI1W3tSa7"
      },
      "execution_count": 76,
      "outputs": []
    },
    {
      "cell_type": "code",
      "source": [
        "rf = RandomForestRegressor(random_state=20)\n",
        "rf.fit(X_train, y_train)"
      ],
      "metadata": {
        "colab": {
          "base_uri": "https://localhost:8080/",
          "height": 75
        },
        "id": "d_LFxJsIqpMr",
        "outputId": "812fc480-6aa9-45b4-cbdb-2c51741fe470"
      },
      "execution_count": 77,
      "outputs": [
        {
          "output_type": "execute_result",
          "data": {
            "text/plain": [
              "RandomForestRegressor(random_state=20)"
            ],
            "text/html": [
              "<style>#sk-container-id-6 {color: black;background-color: white;}#sk-container-id-6 pre{padding: 0;}#sk-container-id-6 div.sk-toggleable {background-color: white;}#sk-container-id-6 label.sk-toggleable__label {cursor: pointer;display: block;width: 100%;margin-bottom: 0;padding: 0.3em;box-sizing: border-box;text-align: center;}#sk-container-id-6 label.sk-toggleable__label-arrow:before {content: \"▸\";float: left;margin-right: 0.25em;color: #696969;}#sk-container-id-6 label.sk-toggleable__label-arrow:hover:before {color: black;}#sk-container-id-6 div.sk-estimator:hover label.sk-toggleable__label-arrow:before {color: black;}#sk-container-id-6 div.sk-toggleable__content {max-height: 0;max-width: 0;overflow: hidden;text-align: left;background-color: #f0f8ff;}#sk-container-id-6 div.sk-toggleable__content pre {margin: 0.2em;color: black;border-radius: 0.25em;background-color: #f0f8ff;}#sk-container-id-6 input.sk-toggleable__control:checked~div.sk-toggleable__content {max-height: 200px;max-width: 100%;overflow: auto;}#sk-container-id-6 input.sk-toggleable__control:checked~label.sk-toggleable__label-arrow:before {content: \"▾\";}#sk-container-id-6 div.sk-estimator input.sk-toggleable__control:checked~label.sk-toggleable__label {background-color: #d4ebff;}#sk-container-id-6 div.sk-label input.sk-toggleable__control:checked~label.sk-toggleable__label {background-color: #d4ebff;}#sk-container-id-6 input.sk-hidden--visually {border: 0;clip: rect(1px 1px 1px 1px);clip: rect(1px, 1px, 1px, 1px);height: 1px;margin: -1px;overflow: hidden;padding: 0;position: absolute;width: 1px;}#sk-container-id-6 div.sk-estimator {font-family: monospace;background-color: #f0f8ff;border: 1px dotted black;border-radius: 0.25em;box-sizing: border-box;margin-bottom: 0.5em;}#sk-container-id-6 div.sk-estimator:hover {background-color: #d4ebff;}#sk-container-id-6 div.sk-parallel-item::after {content: \"\";width: 100%;border-bottom: 1px solid gray;flex-grow: 1;}#sk-container-id-6 div.sk-label:hover label.sk-toggleable__label {background-color: #d4ebff;}#sk-container-id-6 div.sk-serial::before {content: \"\";position: absolute;border-left: 1px solid gray;box-sizing: border-box;top: 0;bottom: 0;left: 50%;z-index: 0;}#sk-container-id-6 div.sk-serial {display: flex;flex-direction: column;align-items: center;background-color: white;padding-right: 0.2em;padding-left: 0.2em;position: relative;}#sk-container-id-6 div.sk-item {position: relative;z-index: 1;}#sk-container-id-6 div.sk-parallel {display: flex;align-items: stretch;justify-content: center;background-color: white;position: relative;}#sk-container-id-6 div.sk-item::before, #sk-container-id-6 div.sk-parallel-item::before {content: \"\";position: absolute;border-left: 1px solid gray;box-sizing: border-box;top: 0;bottom: 0;left: 50%;z-index: -1;}#sk-container-id-6 div.sk-parallel-item {display: flex;flex-direction: column;z-index: 1;position: relative;background-color: white;}#sk-container-id-6 div.sk-parallel-item:first-child::after {align-self: flex-end;width: 50%;}#sk-container-id-6 div.sk-parallel-item:last-child::after {align-self: flex-start;width: 50%;}#sk-container-id-6 div.sk-parallel-item:only-child::after {width: 0;}#sk-container-id-6 div.sk-dashed-wrapped {border: 1px dashed gray;margin: 0 0.4em 0.5em 0.4em;box-sizing: border-box;padding-bottom: 0.4em;background-color: white;}#sk-container-id-6 div.sk-label label {font-family: monospace;font-weight: bold;display: inline-block;line-height: 1.2em;}#sk-container-id-6 div.sk-label-container {text-align: center;}#sk-container-id-6 div.sk-container {/* jupyter's `normalize.less` sets `[hidden] { display: none; }` but bootstrap.min.css set `[hidden] { display: none !important; }` so we also need the `!important` here to be able to override the default hidden behavior on the sphinx rendered scikit-learn.org. See: https://github.com/scikit-learn/scikit-learn/issues/21755 */display: inline-block !important;position: relative;}#sk-container-id-6 div.sk-text-repr-fallback {display: none;}</style><div id=\"sk-container-id-6\" class=\"sk-top-container\"><div class=\"sk-text-repr-fallback\"><pre>RandomForestRegressor(random_state=20)</pre><b>In a Jupyter environment, please rerun this cell to show the HTML representation or trust the notebook. <br />On GitHub, the HTML representation is unable to render, please try loading this page with nbviewer.org.</b></div><div class=\"sk-container\" hidden><div class=\"sk-item\"><div class=\"sk-estimator sk-toggleable\"><input class=\"sk-toggleable__control sk-hidden--visually\" id=\"sk-estimator-id-6\" type=\"checkbox\" checked><label for=\"sk-estimator-id-6\" class=\"sk-toggleable__label sk-toggleable__label-arrow\">RandomForestRegressor</label><div class=\"sk-toggleable__content\"><pre>RandomForestRegressor(random_state=20)</pre></div></div></div></div></div>"
            ]
          },
          "metadata": {},
          "execution_count": 77
        }
      ]
    },
    {
      "cell_type": "code",
      "source": [
        "predicao_rf = rf.predict(X_train)\n",
        "print('R2:', metrics.r2_score(y_train, predicao_rf))\n",
        "print('MAE:', metrics.mean_absolute_error(y_train, predicao_rf))\n",
        "print('MSE:', metrics.mean_squared_error(y_train, predicao_rf))\n",
        "print('RMSE:', np.sqrt(metrics.mean_squared_error(y_train, predicao_rf)))"
      ],
      "metadata": {
        "colab": {
          "base_uri": "https://localhost:8080/"
        },
        "id": "5S4421PRwHwA",
        "outputId": "19231650-7f35-4d0b-b5ba-ed5285d3ca47"
      },
      "execution_count": 78,
      "outputs": [
        {
          "output_type": "stream",
          "name": "stdout",
          "text": [
            "R2: 0.9458908121288537\n",
            "MAE: 0.007243163265306136\n",
            "MSE: 8.461741734693821e-05\n",
            "RMSE: 0.009198772600023233\n"
          ]
        }
      ]
    },
    {
      "cell_type": "code",
      "source": [
        "predicao_rf = rf.predict(X_test)\n",
        "print('R2:', metrics.r2_score(y_test, predicao_rf))\n",
        "print('MAE:', metrics.mean_absolute_error(y_test, predicao_rf))\n",
        "print('MSE:', metrics.mean_squared_error(y_test, predicao_rf))\n",
        "print('RMSE:', np.sqrt(metrics.mean_squared_error(y_test, predicao_rf)))"
      ],
      "metadata": {
        "colab": {
          "base_uri": "https://localhost:8080/"
        },
        "id": "M_wQaiRMwQID",
        "outputId": "ddeeb506-1ff8-4e8b-9600-fc599553033a"
      },
      "execution_count": 79,
      "outputs": [
        {
          "output_type": "stream",
          "name": "stdout",
          "text": [
            "R2: 0.627421842455196\n",
            "MAE: 0.016353255813953416\n",
            "MSE: 0.0004452105465116261\n",
            "RMSE: 0.021100012950508493\n"
          ]
        }
      ]
    },
    {
      "cell_type": "code",
      "source": [
        "df.info()"
      ],
      "metadata": {
        "colab": {
          "base_uri": "https://localhost:8080/"
        },
        "id": "ZkhXGmhs1vvc",
        "outputId": "d4025f18-8d3a-4fe4-82b6-b7888008505d"
      },
      "execution_count": 80,
      "outputs": [
        {
          "output_type": "stream",
          "name": "stdout",
          "text": [
            "<class 'pandas.core.frame.DataFrame'>\n",
            "RangeIndex: 141 entries, 0 to 140\n",
            "Data columns (total 13 columns):\n",
            " #   Column          Non-Null Count  Dtype  \n",
            "---  ------          --------------  -----  \n",
            " 0   NOME_MUNICIPIO  141 non-null    object \n",
            " 1   CODIGO          141 non-null    int64  \n",
            " 2   GENTILICO       141 non-null    object \n",
            " 3   PREFEITO2017    141 non-null    object \n",
            " 4   AREA            141 non-null    float64\n",
            " 5   POPESTIMADA     141 non-null    int64  \n",
            " 6   DENSIDADE       141 non-null    float64\n",
            " 7   ESCOLARIZACAO   141 non-null    float64\n",
            " 8   IDHM            141 non-null    float64\n",
            " 9   MORTALIDADE     141 non-null    object \n",
            " 10  RECEITAS        141 non-null    float64\n",
            " 11  DESPESAS        141 non-null    float64\n",
            " 12  PIB             141 non-null    float64\n",
            "dtypes: float64(7), int64(2), object(4)\n",
            "memory usage: 14.4+ KB\n"
          ]
        }
      ]
    },
    {
      "cell_type": "code",
      "source": [
        "df.head()"
      ],
      "metadata": {
        "colab": {
          "base_uri": "https://localhost:8080/",
          "height": 206
        },
        "id": "BdQnnxJ-16gm",
        "outputId": "6a58e30e-f782-463a-bb96-fcaae98a7b9b"
      },
      "execution_count": 81,
      "outputs": [
        {
          "output_type": "execute_result",
          "data": {
            "text/plain": [
              "   NOME_MUNICIPIO   CODIGO          GENTILICO                 PREFEITO2017  \\\n",
              "0        Acorizal  5100102          acorizano  CLODOALDO MONTEIRO DA SILVA   \n",
              "1        Água Boa  5100201        água-boense          MAURO ROSA DA SILVA   \n",
              "2   Alta Floresta  5100250   alta-florestense      ASIEL BEZERRA DE ARAUJO   \n",
              "3   Alto Araguaia  5100300         araguaiano     GUSTAVO DE MELO ANICEZIO   \n",
              "4  Alto Boa Vista  5100359  alto boa vistense     VALTUIR CANDIDO DA SILVA   \n",
              "\n",
              "       AREA  POPESTIMADA  DENSIDADE  ESCOLARIZACAO   IDHM MORTALIDADE  \\\n",
              "0  1014.029         5424       6.56           96.6  0.628       16.13   \n",
              "1  7510.635        25229       2.79           99.2  0.729       10.23   \n",
              "2  8953.191        51615       5.48           98.0  0.714       19.19   \n",
              "3  5399.326        18703       2.84           96.7  0.704        9.09   \n",
              "4  2240.438         6659       2.34           96.8  0.651       37.04   \n",
              "\n",
              "        RECEITAS      DESPESAS       PIB  \n",
              "0   80650.793638   71032.62096  13362.95  \n",
              "1   92166.406740   81874.15633  37449.63  \n",
              "2  146439.790950  118288.01810  31623.80  \n",
              "3   63035.525370   55216.26966  50298.54  \n",
              "4   23227.727800   20002.89582  16877.29  "
            ],
            "text/html": [
              "\n",
              "  <div id=\"df-1075e8a3-c4dc-4449-aff9-833efc83f967\" class=\"colab-df-container\">\n",
              "    <div>\n",
              "<style scoped>\n",
              "    .dataframe tbody tr th:only-of-type {\n",
              "        vertical-align: middle;\n",
              "    }\n",
              "\n",
              "    .dataframe tbody tr th {\n",
              "        vertical-align: top;\n",
              "    }\n",
              "\n",
              "    .dataframe thead th {\n",
              "        text-align: right;\n",
              "    }\n",
              "</style>\n",
              "<table border=\"1\" class=\"dataframe\">\n",
              "  <thead>\n",
              "    <tr style=\"text-align: right;\">\n",
              "      <th></th>\n",
              "      <th>NOME_MUNICIPIO</th>\n",
              "      <th>CODIGO</th>\n",
              "      <th>GENTILICO</th>\n",
              "      <th>PREFEITO2017</th>\n",
              "      <th>AREA</th>\n",
              "      <th>POPESTIMADA</th>\n",
              "      <th>DENSIDADE</th>\n",
              "      <th>ESCOLARIZACAO</th>\n",
              "      <th>IDHM</th>\n",
              "      <th>MORTALIDADE</th>\n",
              "      <th>RECEITAS</th>\n",
              "      <th>DESPESAS</th>\n",
              "      <th>PIB</th>\n",
              "    </tr>\n",
              "  </thead>\n",
              "  <tbody>\n",
              "    <tr>\n",
              "      <th>0</th>\n",
              "      <td>Acorizal</td>\n",
              "      <td>5100102</td>\n",
              "      <td>acorizano</td>\n",
              "      <td>CLODOALDO MONTEIRO DA SILVA</td>\n",
              "      <td>1014.029</td>\n",
              "      <td>5424</td>\n",
              "      <td>6.56</td>\n",
              "      <td>96.6</td>\n",
              "      <td>0.628</td>\n",
              "      <td>16.13</td>\n",
              "      <td>80650.793638</td>\n",
              "      <td>71032.62096</td>\n",
              "      <td>13362.95</td>\n",
              "    </tr>\n",
              "    <tr>\n",
              "      <th>1</th>\n",
              "      <td>Água Boa</td>\n",
              "      <td>5100201</td>\n",
              "      <td>água-boense</td>\n",
              "      <td>MAURO ROSA DA SILVA</td>\n",
              "      <td>7510.635</td>\n",
              "      <td>25229</td>\n",
              "      <td>2.79</td>\n",
              "      <td>99.2</td>\n",
              "      <td>0.729</td>\n",
              "      <td>10.23</td>\n",
              "      <td>92166.406740</td>\n",
              "      <td>81874.15633</td>\n",
              "      <td>37449.63</td>\n",
              "    </tr>\n",
              "    <tr>\n",
              "      <th>2</th>\n",
              "      <td>Alta Floresta</td>\n",
              "      <td>5100250</td>\n",
              "      <td>alta-florestense</td>\n",
              "      <td>ASIEL BEZERRA DE ARAUJO</td>\n",
              "      <td>8953.191</td>\n",
              "      <td>51615</td>\n",
              "      <td>5.48</td>\n",
              "      <td>98.0</td>\n",
              "      <td>0.714</td>\n",
              "      <td>19.19</td>\n",
              "      <td>146439.790950</td>\n",
              "      <td>118288.01810</td>\n",
              "      <td>31623.80</td>\n",
              "    </tr>\n",
              "    <tr>\n",
              "      <th>3</th>\n",
              "      <td>Alto Araguaia</td>\n",
              "      <td>5100300</td>\n",
              "      <td>araguaiano</td>\n",
              "      <td>GUSTAVO DE MELO ANICEZIO</td>\n",
              "      <td>5399.326</td>\n",
              "      <td>18703</td>\n",
              "      <td>2.84</td>\n",
              "      <td>96.7</td>\n",
              "      <td>0.704</td>\n",
              "      <td>9.09</td>\n",
              "      <td>63035.525370</td>\n",
              "      <td>55216.26966</td>\n",
              "      <td>50298.54</td>\n",
              "    </tr>\n",
              "    <tr>\n",
              "      <th>4</th>\n",
              "      <td>Alto Boa Vista</td>\n",
              "      <td>5100359</td>\n",
              "      <td>alto boa vistense</td>\n",
              "      <td>VALTUIR CANDIDO DA SILVA</td>\n",
              "      <td>2240.438</td>\n",
              "      <td>6659</td>\n",
              "      <td>2.34</td>\n",
              "      <td>96.8</td>\n",
              "      <td>0.651</td>\n",
              "      <td>37.04</td>\n",
              "      <td>23227.727800</td>\n",
              "      <td>20002.89582</td>\n",
              "      <td>16877.29</td>\n",
              "    </tr>\n",
              "  </tbody>\n",
              "</table>\n",
              "</div>\n",
              "    <div class=\"colab-df-buttons\">\n",
              "\n",
              "  <div class=\"colab-df-container\">\n",
              "    <button class=\"colab-df-convert\" onclick=\"convertToInteractive('df-1075e8a3-c4dc-4449-aff9-833efc83f967')\"\n",
              "            title=\"Convert this dataframe to an interactive table.\"\n",
              "            style=\"display:none;\">\n",
              "\n",
              "  <svg xmlns=\"http://www.w3.org/2000/svg\" height=\"24px\" viewBox=\"0 -960 960 960\">\n",
              "    <path d=\"M120-120v-720h720v720H120Zm60-500h600v-160H180v160Zm220 220h160v-160H400v160Zm0 220h160v-160H400v160ZM180-400h160v-160H180v160Zm440 0h160v-160H620v160ZM180-180h160v-160H180v160Zm440 0h160v-160H620v160Z\"/>\n",
              "  </svg>\n",
              "    </button>\n",
              "\n",
              "  <style>\n",
              "    .colab-df-container {\n",
              "      display:flex;\n",
              "      gap: 12px;\n",
              "    }\n",
              "\n",
              "    .colab-df-convert {\n",
              "      background-color: #E8F0FE;\n",
              "      border: none;\n",
              "      border-radius: 50%;\n",
              "      cursor: pointer;\n",
              "      display: none;\n",
              "      fill: #1967D2;\n",
              "      height: 32px;\n",
              "      padding: 0 0 0 0;\n",
              "      width: 32px;\n",
              "    }\n",
              "\n",
              "    .colab-df-convert:hover {\n",
              "      background-color: #E2EBFA;\n",
              "      box-shadow: 0px 1px 2px rgba(60, 64, 67, 0.3), 0px 1px 3px 1px rgba(60, 64, 67, 0.15);\n",
              "      fill: #174EA6;\n",
              "    }\n",
              "\n",
              "    .colab-df-buttons div {\n",
              "      margin-bottom: 4px;\n",
              "    }\n",
              "\n",
              "    [theme=dark] .colab-df-convert {\n",
              "      background-color: #3B4455;\n",
              "      fill: #D2E3FC;\n",
              "    }\n",
              "\n",
              "    [theme=dark] .colab-df-convert:hover {\n",
              "      background-color: #434B5C;\n",
              "      box-shadow: 0px 1px 3px 1px rgba(0, 0, 0, 0.15);\n",
              "      filter: drop-shadow(0px 1px 2px rgba(0, 0, 0, 0.3));\n",
              "      fill: #FFFFFF;\n",
              "    }\n",
              "  </style>\n",
              "\n",
              "    <script>\n",
              "      const buttonEl =\n",
              "        document.querySelector('#df-1075e8a3-c4dc-4449-aff9-833efc83f967 button.colab-df-convert');\n",
              "      buttonEl.style.display =\n",
              "        google.colab.kernel.accessAllowed ? 'block' : 'none';\n",
              "\n",
              "      async function convertToInteractive(key) {\n",
              "        const element = document.querySelector('#df-1075e8a3-c4dc-4449-aff9-833efc83f967');\n",
              "        const dataTable =\n",
              "          await google.colab.kernel.invokeFunction('convertToInteractive',\n",
              "                                                    [key], {});\n",
              "        if (!dataTable) return;\n",
              "\n",
              "        const docLinkHtml = 'Like what you see? Visit the ' +\n",
              "          '<a target=\"_blank\" href=https://colab.research.google.com/notebooks/data_table.ipynb>data table notebook</a>'\n",
              "          + ' to learn more about interactive tables.';\n",
              "        element.innerHTML = '';\n",
              "        dataTable['output_type'] = 'display_data';\n",
              "        await google.colab.output.renderOutput(dataTable, element);\n",
              "        const docLink = document.createElement('div');\n",
              "        docLink.innerHTML = docLinkHtml;\n",
              "        element.appendChild(docLink);\n",
              "      }\n",
              "    </script>\n",
              "  </div>\n",
              "\n",
              "\n",
              "<div id=\"df-6ea54aa5-ed54-4b78-8fbf-1f2527b5f272\">\n",
              "  <button class=\"colab-df-quickchart\" onclick=\"quickchart('df-6ea54aa5-ed54-4b78-8fbf-1f2527b5f272')\"\n",
              "            title=\"Suggest charts\"\n",
              "            style=\"display:none;\">\n",
              "\n",
              "<svg xmlns=\"http://www.w3.org/2000/svg\" height=\"24px\"viewBox=\"0 0 24 24\"\n",
              "     width=\"24px\">\n",
              "    <g>\n",
              "        <path d=\"M19 3H5c-1.1 0-2 .9-2 2v14c0 1.1.9 2 2 2h14c1.1 0 2-.9 2-2V5c0-1.1-.9-2-2-2zM9 17H7v-7h2v7zm4 0h-2V7h2v10zm4 0h-2v-4h2v4z\"/>\n",
              "    </g>\n",
              "</svg>\n",
              "  </button>\n",
              "\n",
              "<style>\n",
              "  .colab-df-quickchart {\n",
              "      --bg-color: #E8F0FE;\n",
              "      --fill-color: #1967D2;\n",
              "      --hover-bg-color: #E2EBFA;\n",
              "      --hover-fill-color: #174EA6;\n",
              "      --disabled-fill-color: #AAA;\n",
              "      --disabled-bg-color: #DDD;\n",
              "  }\n",
              "\n",
              "  [theme=dark] .colab-df-quickchart {\n",
              "      --bg-color: #3B4455;\n",
              "      --fill-color: #D2E3FC;\n",
              "      --hover-bg-color: #434B5C;\n",
              "      --hover-fill-color: #FFFFFF;\n",
              "      --disabled-bg-color: #3B4455;\n",
              "      --disabled-fill-color: #666;\n",
              "  }\n",
              "\n",
              "  .colab-df-quickchart {\n",
              "    background-color: var(--bg-color);\n",
              "    border: none;\n",
              "    border-radius: 50%;\n",
              "    cursor: pointer;\n",
              "    display: none;\n",
              "    fill: var(--fill-color);\n",
              "    height: 32px;\n",
              "    padding: 0;\n",
              "    width: 32px;\n",
              "  }\n",
              "\n",
              "  .colab-df-quickchart:hover {\n",
              "    background-color: var(--hover-bg-color);\n",
              "    box-shadow: 0 1px 2px rgba(60, 64, 67, 0.3), 0 1px 3px 1px rgba(60, 64, 67, 0.15);\n",
              "    fill: var(--button-hover-fill-color);\n",
              "  }\n",
              "\n",
              "  .colab-df-quickchart-complete:disabled,\n",
              "  .colab-df-quickchart-complete:disabled:hover {\n",
              "    background-color: var(--disabled-bg-color);\n",
              "    fill: var(--disabled-fill-color);\n",
              "    box-shadow: none;\n",
              "  }\n",
              "\n",
              "  .colab-df-spinner {\n",
              "    border: 2px solid var(--fill-color);\n",
              "    border-color: transparent;\n",
              "    border-bottom-color: var(--fill-color);\n",
              "    animation:\n",
              "      spin 1s steps(1) infinite;\n",
              "  }\n",
              "\n",
              "  @keyframes spin {\n",
              "    0% {\n",
              "      border-color: transparent;\n",
              "      border-bottom-color: var(--fill-color);\n",
              "      border-left-color: var(--fill-color);\n",
              "    }\n",
              "    20% {\n",
              "      border-color: transparent;\n",
              "      border-left-color: var(--fill-color);\n",
              "      border-top-color: var(--fill-color);\n",
              "    }\n",
              "    30% {\n",
              "      border-color: transparent;\n",
              "      border-left-color: var(--fill-color);\n",
              "      border-top-color: var(--fill-color);\n",
              "      border-right-color: var(--fill-color);\n",
              "    }\n",
              "    40% {\n",
              "      border-color: transparent;\n",
              "      border-right-color: var(--fill-color);\n",
              "      border-top-color: var(--fill-color);\n",
              "    }\n",
              "    60% {\n",
              "      border-color: transparent;\n",
              "      border-right-color: var(--fill-color);\n",
              "    }\n",
              "    80% {\n",
              "      border-color: transparent;\n",
              "      border-right-color: var(--fill-color);\n",
              "      border-bottom-color: var(--fill-color);\n",
              "    }\n",
              "    90% {\n",
              "      border-color: transparent;\n",
              "      border-bottom-color: var(--fill-color);\n",
              "    }\n",
              "  }\n",
              "</style>\n",
              "\n",
              "  <script>\n",
              "    async function quickchart(key) {\n",
              "      const quickchartButtonEl =\n",
              "        document.querySelector('#' + key + ' button');\n",
              "      quickchartButtonEl.disabled = true;  // To prevent multiple clicks.\n",
              "      quickchartButtonEl.classList.add('colab-df-spinner');\n",
              "      try {\n",
              "        const charts = await google.colab.kernel.invokeFunction(\n",
              "            'suggestCharts', [key], {});\n",
              "      } catch (error) {\n",
              "        console.error('Error during call to suggestCharts:', error);\n",
              "      }\n",
              "      quickchartButtonEl.classList.remove('colab-df-spinner');\n",
              "      quickchartButtonEl.classList.add('colab-df-quickchart-complete');\n",
              "    }\n",
              "    (() => {\n",
              "      let quickchartButtonEl =\n",
              "        document.querySelector('#df-6ea54aa5-ed54-4b78-8fbf-1f2527b5f272 button');\n",
              "      quickchartButtonEl.style.display =\n",
              "        google.colab.kernel.accessAllowed ? 'block' : 'none';\n",
              "    })();\n",
              "  </script>\n",
              "</div>\n",
              "\n",
              "    </div>\n",
              "  </div>\n"
            ],
            "application/vnd.google.colaboratory.intrinsic+json": {
              "type": "dataframe",
              "variable_name": "df",
              "summary": "{\n  \"name\": \"df\",\n  \"rows\": 141,\n  \"fields\": [\n    {\n      \"column\": \"NOME_MUNICIPIO\",\n      \"properties\": {\n        \"dtype\": \"string\",\n        \"num_unique_values\": 141,\n        \"samples\": [\n          \"Nobres\",\n          \"S\\u00e3o Jos\\u00e9 do Povo\",\n          \"Col\\u00edder\"\n        ],\n        \"semantic_type\": \"\",\n        \"description\": \"\"\n      }\n    },\n    {\n      \"column\": \"CODIGO\",\n      \"properties\": {\n        \"dtype\": \"number\",\n        \"std\": 2412,\n        \"min\": 5100102,\n        \"max\": 5108956,\n        \"num_unique_values\": 141,\n        \"samples\": [\n          5105903,\n          5107297,\n          5103205\n        ],\n        \"semantic_type\": \"\",\n        \"description\": \"\"\n      }\n    },\n    {\n      \"column\": \"GENTILICO\",\n      \"properties\": {\n        \"dtype\": \"string\",\n        \"num_unique_values\": 141,\n        \"samples\": [\n          \"nobrense\",\n          \"s\\u00e3ojoseenses-do-povo\",\n          \"colidense\"\n        ],\n        \"semantic_type\": \"\",\n        \"description\": \"\"\n      }\n    },\n    {\n      \"column\": \"PREFEITO2017\",\n      \"properties\": {\n        \"dtype\": \"string\",\n        \"num_unique_values\": 141,\n        \"samples\": [\n          \"LEOCIR HANEL\",\n          \"ARIVALDO MEDEIROS DE SANTANA\",\n          \"NOBORU TOMIYOSHI\"\n        ],\n        \"semantic_type\": \"\",\n        \"description\": \"\"\n      }\n    },\n    {\n      \"column\": \"AREA\",\n      \"properties\": {\n        \"dtype\": \"number\",\n        \"std\": 5992.9178621110295,\n        \"min\": 344.05,\n        \"max\": 27946.126,\n        \"num_unique_values\": 141,\n        \"samples\": [\n          3911.85,\n          448.285,\n          3103.958\n        ],\n        \"semantic_type\": \"\",\n        \"description\": \"\"\n      }\n    },\n    {\n      \"column\": \"POPESTIMADA\",\n      \"properties\": {\n        \"dtype\": \"number\",\n        \"std\": 60490,\n        \"min\": 956,\n        \"max\": 607153,\n        \"num_unique_values\": 141,\n        \"samples\": [\n          15338,\n          4021,\n          33224\n        ],\n        \"semantic_type\": \"\",\n        \"description\": \"\"\n      }\n    },\n    {\n      \"column\": \"DENSIDADE\",\n      \"properties\": {\n        \"dtype\": \"number\",\n        \"std\": 24.399357711163734,\n        \"min\": 0.28,\n        \"max\": 240.98,\n        \"num_unique_values\": 131,\n        \"samples\": [\n          8.03,\n          2.47,\n          3.61\n        ],\n        \"semantic_type\": \"\",\n        \"description\": \"\"\n      }\n    },\n    {\n      \"column\": \"ESCOLARIZACAO\",\n      \"properties\": {\n        \"dtype\": \"number\",\n        \"std\": 3.8812314343270633,\n        \"min\": 66.3,\n        \"max\": 99.7,\n        \"num_unique_values\": 60,\n        \"samples\": [\n          96.6,\n          95.4,\n          93.9\n        ],\n        \"semantic_type\": \"\",\n        \"description\": \"\"\n      }\n    },\n    {\n      \"column\": \"IDHM\",\n      \"properties\": {\n        \"dtype\": \"number\",\n        \"std\": 0.038266273663649514,\n        \"min\": 0.538,\n        \"max\": 0.785,\n        \"num_unique_values\": 87,\n        \"samples\": [\n          0.684,\n          0.628,\n          0.713\n        ],\n        \"semantic_type\": \"\",\n        \"description\": \"\"\n      }\n    },\n    {\n      \"column\": \"MORTALIDADE\",\n      \"properties\": {\n        \"dtype\": \"string\",\n        \"num_unique_values\": 116,\n        \"samples\": [\n          \"55.56\",\n          \"37.04\",\n          \"21.74\"\n        ],\n        \"semantic_type\": \"\",\n        \"description\": \"\"\n      }\n    },\n    {\n      \"column\": \"RECEITAS\",\n      \"properties\": {\n        \"dtype\": \"number\",\n        \"std\": 200986.91075698705,\n        \"min\": 11893.20692,\n        \"max\": 2153678.7811,\n        \"num_unique_values\": 140,\n        \"samples\": [\n          16133.82629,\n          64031.62733,\n          85006.06354\n        ],\n        \"semantic_type\": \"\",\n        \"description\": \"\"\n      }\n    },\n    {\n      \"column\": \"DESPESAS\",\n      \"properties\": {\n        \"dtype\": \"number\",\n        \"std\": 188214.2795787556,\n        \"min\": 10486.89734,\n        \"max\": 2043591.97273,\n        \"num_unique_values\": 140,\n        \"samples\": [\n          13770.21051,\n          55667.02089,\n          74654.60001\n        ],\n        \"semantic_type\": \"\",\n        \"description\": \"\"\n      }\n    },\n    {\n      \"column\": \"PIB\",\n      \"properties\": {\n        \"dtype\": \"number\",\n        \"std\": 28279.3470296444,\n        \"min\": 10060.57,\n        \"max\": 202309.42,\n        \"num_unique_values\": 141,\n        \"samples\": [\n          35667.87,\n          11273.34,\n          27128.23\n        ],\n        \"semantic_type\": \"\",\n        \"description\": \"\"\n      }\n    }\n  ]\n}"
            }
          },
          "metadata": {},
          "execution_count": 81
        }
      ]
    },
    {
      "cell_type": "code",
      "source": [
        "import matplotlib.pyplot as plt\n",
        "import seaborn as sns\n",
        "import pandas as pd\n",
        "\n",
        "# Métricas calculadas para cada modelo\n",
        "linear_metrics = {\n",
        "    'Modelo': 'Linear Regression',\n",
        "    'R2':   0.08118201076890674,\n",
        "    'MAE':  0.02483897858488661,\n",
        "    'MSE':  0.0010979373075060003,\n",
        "    'RMSE': 0.03313513705277225\n",
        "}\n",
        "\n",
        "rf_metrics = {\n",
        "    'Modelo': 'Random Forest Regressor',\n",
        "    'R2':   0.627421842455196,\n",
        "    'MAE':  0.016353255813953416,\n",
        "    'MSE':  0.0004452105465116261,\n",
        "    'RMSE': 0.021100012950508493\n",
        "}\n",
        "\n",
        "# Cria DataFrame com as métricas\n",
        "metrics_df = pd.DataFrame([linear_metrics, rf_metrics])\n",
        "\n",
        "# Verificar colunas do DataFrame\n",
        "print(metrics_df.columns)\n",
        "\n",
        "# Plotar gráficos comparando as métricas dos modelos\n",
        "fig, axes = plt.subplots(2, 2, figsize=(10, 6))\n",
        "\n",
        "# Colocar as métricas\n",
        "sns.barplot(x='Modelo', y='R2', data=metrics_df, ax=axes[0, 0])\n",
        "axes[0, 0].set_title('R2') # Alterando o título para 'R2'\n",
        "\n",
        "sns.barplot(x='Modelo', y='MAE', data=metrics_df, ax=axes[0, 1])\n",
        "axes[0, 1].set_title('MAE')\n",
        "\n",
        "sns.barplot(x='Modelo', y='MSE', data=metrics_df, ax=axes[1, 0])\n",
        "axes[1, 0].set_title('MSE')\n",
        "\n",
        "sns.barplot(x='Modelo', y='RMSE', data=metrics_df, ax=axes[1, 1])\n",
        "axes[1, 1].set_title('RMSE')\n",
        "\n",
        "plt.tight_layout()\n",
        "plt.show()\n",
        "\n",
        "# Métricas\n",
        "print(metrics_df)"
      ],
      "metadata": {
        "colab": {
          "base_uri": "https://localhost:8080/",
          "height": 676
        },
        "id": "hTLXYDeOAJs9",
        "outputId": "d87bdbc0-14ad-4a10-c738-34dd17a206a5"
      },
      "execution_count": 94,
      "outputs": [
        {
          "output_type": "stream",
          "name": "stdout",
          "text": [
            "Index(['Modelo', 'R2', 'MAE', 'MSE', 'RMSE'], dtype='object')\n"
          ]
        },
        {
          "output_type": "display_data",
          "data": {
            "text/plain": [
              "<Figure size 1000x600 with 4 Axes>"
            ],
            "image/png": "[encoded data removed]"
          },
          "metadata": {}
        },
        {
          "output_type": "stream",
          "name": "stdout",
          "text": [
            "                    Modelo        R2       MAE       MSE      RMSE\n",
            "0        Linear Regression  0.081182  0.024839  0.001098  0.033135\n",
            "1  Random Forest Regressor  0.627422  0.016353  0.000445  0.021100\n"
          ]
        }
      ]
    }
  ]
}